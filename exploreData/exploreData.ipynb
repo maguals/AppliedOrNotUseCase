{
 "cells": [
  {
   "cell_type": "code",
   "execution_count": 1,
   "metadata": {},
   "outputs": [],
   "source": [
    "import numpy as np\n",
    "import pandas as pd\n",
    "import matplotlib.pyplot as plt\n",
    "\n",
    "\n",
    "import seaborn as sns \n",
    "\n",
    "dfUser         = pd.read_csv(\"../applicant_material/user.csv\") \n",
    "dfJobs         = pd.read_csv(\"../applicant_material/job_desc.csv\") \n",
    "\n",
    "#dfUser.columns = dfUser.columns.str.replace(r\"[v]\", \"\")\n",
    "#column_names   = ['has_applied'] +  [str(entry) for entry in range(1,57)]\n",
    "#dfUser         = dfUser.reindex(columns=column_names)\n",
    "dfAll          = pd.concat([dfUser, dfJobs], axis=1)\n",
    "\n",
    "\n",
    "dfJobs.job_title_full = dfJobs.job_title_full.str.replace('(', ' ')\n",
    "dfJobs.job_title_full = dfJobs.job_title_full.str.replace(')', ' ')\n",
    "dfJobs.job_title_full = dfJobs.job_title_full.str.lower();"
   ]
  },
  {
   "cell_type": "code",
   "execution_count": 2,
   "metadata": {},
   "outputs": [
    {
     "data": {
      "text/html": [
       "<div>\n",
       "<style scoped>\n",
       "    .dataframe tbody tr th:only-of-type {\n",
       "        vertical-align: middle;\n",
       "    }\n",
       "\n",
       "    .dataframe tbody tr th {\n",
       "        vertical-align: top;\n",
       "    }\n",
       "\n",
       "    .dataframe thead th {\n",
       "        text-align: right;\n",
       "    }\n",
       "</style>\n",
       "<table border=\"1\" class=\"dataframe\">\n",
       "  <thead>\n",
       "    <tr style=\"text-align: right;\">\n",
       "      <th></th>\n",
       "      <th>user_id</th>\n",
       "      <th>has_applied</th>\n",
       "      <th>v1</th>\n",
       "      <th>v10</th>\n",
       "      <th>v11</th>\n",
       "      <th>v12</th>\n",
       "      <th>v13</th>\n",
       "      <th>v14</th>\n",
       "      <th>v15</th>\n",
       "      <th>v16</th>\n",
       "      <th>...</th>\n",
       "      <th>v51</th>\n",
       "      <th>v52</th>\n",
       "      <th>v53</th>\n",
       "      <th>v54</th>\n",
       "      <th>v55</th>\n",
       "      <th>v56</th>\n",
       "      <th>v6</th>\n",
       "      <th>v7</th>\n",
       "      <th>v8</th>\n",
       "      <th>v9</th>\n",
       "    </tr>\n",
       "  </thead>\n",
       "  <tbody>\n",
       "    <tr>\n",
       "      <th>0</th>\n",
       "      <td>U1</td>\n",
       "      <td>1</td>\n",
       "      <td>0.620573</td>\n",
       "      <td>0.018662</td>\n",
       "      <td>0.100803</td>\n",
       "      <td>0.080898</td>\n",
       "      <td>0.420417</td>\n",
       "      <td>0.817681</td>\n",
       "      <td>0.147355</td>\n",
       "      <td>0.446812</td>\n",
       "      <td>...</td>\n",
       "      <td>0.227104</td>\n",
       "      <td>0.811505</td>\n",
       "      <td>0.945988</td>\n",
       "      <td>0.798489</td>\n",
       "      <td>0.148969</td>\n",
       "      <td>0.707921</td>\n",
       "      <td>0.751510</td>\n",
       "      <td>0.349078</td>\n",
       "      <td>0.337132</td>\n",
       "      <td>0.807632</td>\n",
       "    </tr>\n",
       "    <tr>\n",
       "      <th>1</th>\n",
       "      <td>U2</td>\n",
       "      <td>1</td>\n",
       "      <td>0.972502</td>\n",
       "      <td>0.870277</td>\n",
       "      <td>0.504887</td>\n",
       "      <td>0.995163</td>\n",
       "      <td>0.179480</td>\n",
       "      <td>0.608719</td>\n",
       "      <td>0.245085</td>\n",
       "      <td>0.851246</td>\n",
       "      <td>...</td>\n",
       "      <td>0.855074</td>\n",
       "      <td>0.683701</td>\n",
       "      <td>0.318416</td>\n",
       "      <td>0.703566</td>\n",
       "      <td>0.400617</td>\n",
       "      <td>0.563469</td>\n",
       "      <td>0.989583</td>\n",
       "      <td>0.073514</td>\n",
       "      <td>0.095885</td>\n",
       "      <td>0.890821</td>\n",
       "    </tr>\n",
       "    <tr>\n",
       "      <th>2</th>\n",
       "      <td>U3</td>\n",
       "      <td>1</td>\n",
       "      <td>0.240756</td>\n",
       "      <td>0.546440</td>\n",
       "      <td>0.521399</td>\n",
       "      <td>0.402420</td>\n",
       "      <td>0.640444</td>\n",
       "      <td>NaN</td>\n",
       "      <td>0.184515</td>\n",
       "      <td>0.395058</td>\n",
       "      <td>...</td>\n",
       "      <td>0.614898</td>\n",
       "      <td>0.487564</td>\n",
       "      <td>0.256930</td>\n",
       "      <td>0.653874</td>\n",
       "      <td>0.761972</td>\n",
       "      <td>0.976820</td>\n",
       "      <td>0.264505</td>\n",
       "      <td>0.513135</td>\n",
       "      <td>0.978387</td>\n",
       "      <td>0.620669</td>\n",
       "    </tr>\n",
       "    <tr>\n",
       "      <th>3</th>\n",
       "      <td>U4</td>\n",
       "      <td>1</td>\n",
       "      <td>0.004854</td>\n",
       "      <td>0.433188</td>\n",
       "      <td>0.250801</td>\n",
       "      <td>0.242680</td>\n",
       "      <td>0.713586</td>\n",
       "      <td>0.210186</td>\n",
       "      <td>0.977472</td>\n",
       "      <td>0.375024</td>\n",
       "      <td>...</td>\n",
       "      <td>0.407412</td>\n",
       "      <td>0.242282</td>\n",
       "      <td>0.097724</td>\n",
       "      <td>0.191388</td>\n",
       "      <td>0.516972</td>\n",
       "      <td>0.742984</td>\n",
       "      <td>0.232344</td>\n",
       "      <td>0.305115</td>\n",
       "      <td>0.080069</td>\n",
       "      <td>0.297233</td>\n",
       "    </tr>\n",
       "    <tr>\n",
       "      <th>4</th>\n",
       "      <td>U5</td>\n",
       "      <td>1</td>\n",
       "      <td>0.835250</td>\n",
       "      <td>0.476812</td>\n",
       "      <td>0.764354</td>\n",
       "      <td>0.449753</td>\n",
       "      <td>0.524924</td>\n",
       "      <td>0.807181</td>\n",
       "      <td>0.294023</td>\n",
       "      <td>0.475043</td>\n",
       "      <td>...</td>\n",
       "      <td>0.605605</td>\n",
       "      <td>0.772735</td>\n",
       "      <td>0.351836</td>\n",
       "      <td>0.932708</td>\n",
       "      <td>0.724384</td>\n",
       "      <td>0.123647</td>\n",
       "      <td>0.091980</td>\n",
       "      <td>0.581444</td>\n",
       "      <td>0.093941</td>\n",
       "      <td>0.612623</td>\n",
       "    </tr>\n",
       "  </tbody>\n",
       "</table>\n",
       "<p>5 rows × 58 columns</p>\n",
       "</div>"
      ],
      "text/plain": [
       "  user_id  has_applied        v1       v10       v11       v12       v13  \\\n",
       "0      U1            1  0.620573  0.018662  0.100803  0.080898  0.420417   \n",
       "1      U2            1  0.972502  0.870277  0.504887  0.995163  0.179480   \n",
       "2      U3            1  0.240756  0.546440  0.521399  0.402420  0.640444   \n",
       "3      U4            1  0.004854  0.433188  0.250801  0.242680  0.713586   \n",
       "4      U5            1  0.835250  0.476812  0.764354  0.449753  0.524924   \n",
       "\n",
       "        v14       v15       v16    ...          v51       v52       v53  \\\n",
       "0  0.817681  0.147355  0.446812    ...     0.227104  0.811505  0.945988   \n",
       "1  0.608719  0.245085  0.851246    ...     0.855074  0.683701  0.318416   \n",
       "2       NaN  0.184515  0.395058    ...     0.614898  0.487564  0.256930   \n",
       "3  0.210186  0.977472  0.375024    ...     0.407412  0.242282  0.097724   \n",
       "4  0.807181  0.294023  0.475043    ...     0.605605  0.772735  0.351836   \n",
       "\n",
       "        v54       v55       v56        v6        v7        v8        v9  \n",
       "0  0.798489  0.148969  0.707921  0.751510  0.349078  0.337132  0.807632  \n",
       "1  0.703566  0.400617  0.563469  0.989583  0.073514  0.095885  0.890821  \n",
       "2  0.653874  0.761972  0.976820  0.264505  0.513135  0.978387  0.620669  \n",
       "3  0.191388  0.516972  0.742984  0.232344  0.305115  0.080069  0.297233  \n",
       "4  0.932708  0.724384  0.123647  0.091980  0.581444  0.093941  0.612623  \n",
       "\n",
       "[5 rows x 58 columns]"
      ]
     },
     "execution_count": 2,
     "metadata": {},
     "output_type": "execute_result"
    }
   ],
   "source": [
    "dfUser.head()"
   ]
  },
  {
   "cell_type": "markdown",
   "metadata": {},
   "source": [
    "## Correlation"
   ]
  },
  {
   "cell_type": "code",
   "execution_count": 3,
   "metadata": {},
   "outputs": [
    {
     "data": {
      "text/plain": [
       "has_applied    1.000000\n",
       "v1             0.024147\n",
       "v10           -0.017162\n",
       "v11           -0.030218\n",
       "v12            0.011672\n",
       "Name: has_applied, dtype: float64"
      ]
     },
     "execution_count": 3,
     "metadata": {},
     "output_type": "execute_result"
    },
    {
     "data": {
      "image/png": "[encoded data removed]",
      "text/plain": [
       "<Figure size 216x144 with 1 Axes>"
      ]
     },
     "metadata": {
      "needs_background": "light"
     },
     "output_type": "display_data"
    }
   ],
   "source": [
    "corrTo_has_applied = dfAll.corr().iloc[0,:]\n",
    "fig,ax = plt.subplots(figsize=(3,2))\n",
    "plt.plot(range(0,58),corrTo_has_applied[0:])\n",
    "plt.plot(corrTo_has_applied[0],'*C1', label = 'has_applied')\n",
    "plt.plot(25,corrTo_has_applied[25],'*C2', label = 'v25')\n",
    "plt.plot(30,corrTo_has_applied[30],'*C3', label = 'v30')\n",
    "plt.legend()\n",
    "\n",
    "plt.ylabel('Correlation to has_applied')\n",
    "plt.xlabel('Features',)\n",
    "ax.tick_params(axis=\"x\")\n",
    "plt.tight_layout()\n",
    "plt.savefig('results/correlation.pdf')\n",
    "corrTo_has_applied.head()"
   ]
  },
  {
   "cell_type": "markdown",
   "metadata": {},
   "source": [
    "### Heatmap cross-correlation"
   ]
  },
  {
   "cell_type": "code",
   "execution_count": 4,
   "metadata": {},
   "outputs": [],
   "source": [
    "## Plot heatmap for cross-correlation\n",
    "plt.figure(figsize = (10,8))\n",
    "g = sns.heatmap(dfAll.corr(),annot=False, fmt = \".2f\", cmap = \"coolwarm\",linewidths= 0.01)\n",
    "plt.savefig('results/correlation_Seaborn.pdf')\n",
    "dfAll.corr()\n",
    "plt.close()"
   ]
  },
  {
   "cell_type": "markdown",
   "metadata": {},
   "source": [
    "## Histograms features users"
   ]
  },
  {
   "cell_type": "code",
   "execution_count": 5,
   "metadata": {},
   "outputs": [
    {
     "name": "stdout",
     "output_type": "stream",
     "text": [
      "user_id\n"
     ]
    },
    {
     "ename": "NameError",
     "evalue": "name 'bins' is not defined",
     "output_type": "error",
     "traceback": [
      "\u001b[0;31m---------------------------------------------------------------------------\u001b[0m",
      "\u001b[0;31mNameError\u001b[0m                                 Traceback (most recent call last)",
      "\u001b[0;32m<ipython-input-5-880fd96894a1>\u001b[0m in \u001b[0;36m<module>\u001b[0;34m\u001b[0m\n\u001b[1;32m     13\u001b[0m         \u001b[0mplt\u001b[0m\u001b[0;34m.\u001b[0m\u001b[0mplot\u001b[0m\u001b[0;34m(\u001b[0m\u001b[0mbins\u001b[0m\u001b[0;34m[\u001b[0m\u001b[0;36m1\u001b[0m\u001b[0;34m:\u001b[0m\u001b[0;34m]\u001b[0m\u001b[0;34m,\u001b[0m\u001b[0mfreqs\u001b[0m\u001b[0;34m,\u001b[0m \u001b[0mlabel\u001b[0m \u001b[0;34m=\u001b[0m \u001b[0;34m'...v56'\u001b[0m\u001b[0;34m)\u001b[0m\u001b[0;34m\u001b[0m\u001b[0m\n\u001b[1;32m     14\u001b[0m     \u001b[0;32melse\u001b[0m\u001b[0;34m:\u001b[0m\u001b[0;34m\u001b[0m\u001b[0m\n\u001b[0;32m---> 15\u001b[0;31m         \u001b[0mplt\u001b[0m\u001b[0;34m.\u001b[0m\u001b[0mplot\u001b[0m\u001b[0;34m(\u001b[0m\u001b[0mbins\u001b[0m\u001b[0;34m[\u001b[0m\u001b[0;36m1\u001b[0m\u001b[0;34m:\u001b[0m\u001b[0;34m]\u001b[0m\u001b[0;34m,\u001b[0m\u001b[0mfreqs\u001b[0m\u001b[0;34m)\u001b[0m\u001b[0;34m\u001b[0m\u001b[0m\n\u001b[0m\u001b[1;32m     16\u001b[0m \u001b[0mplt\u001b[0m\u001b[0;34m.\u001b[0m\u001b[0mlegend\u001b[0m\u001b[0;34m(\u001b[0m\u001b[0mncol\u001b[0m \u001b[0;34m=\u001b[0m \u001b[0;36m1\u001b[0m\u001b[0;34m,\u001b[0m \u001b[0mloc\u001b[0m \u001b[0;34m=\u001b[0m \u001b[0;34m'upper center'\u001b[0m\u001b[0;34m)\u001b[0m\u001b[0;34m\u001b[0m\u001b[0m\n\u001b[1;32m     17\u001b[0m \u001b[0mplt\u001b[0m\u001b[0;34m.\u001b[0m\u001b[0mylabel\u001b[0m\u001b[0;34m(\u001b[0m\u001b[0;34m'Histogram (normalized)'\u001b[0m\u001b[0;34m)\u001b[0m\u001b[0;34m\u001b[0m\u001b[0m\n",
      "\u001b[0;31mNameError\u001b[0m: name 'bins' is not defined"
     ]
    },
    {
     "data": {
      "image/png": "[encoded data removed]",
      "text/plain": [
       "<Figure size 216x144 with 1 Axes>"
      ]
     },
     "metadata": {
      "needs_background": "light"
     },
     "output_type": "display_data"
    }
   ],
   "source": [
    "fig,ax = plt.subplots(figsize = (3,2))\n",
    "for column in dfUser[:]:\n",
    "    try:\n",
    "        freqs,bins = np.histogram(dfUser[column],range = (0,1), density = True)\n",
    "    except TypeError:\n",
    "        print(column)\n",
    "        pass\n",
    "    if column == 'has_applied':\n",
    "        plt.plot(bins[1:],freqs, '*',label = column)\n",
    "    elif column == '1':\n",
    "        plt.plot(bins[1:],freqs, label = 'v1...')\n",
    "    elif column == '56':\n",
    "        plt.plot(bins[1:],freqs, label = '...v56')\n",
    "    else:\n",
    "        plt.plot(bins[1:],freqs)\n",
    "plt.legend(ncol = 1, loc = 'upper center')\n",
    "plt.ylabel('Histogram (normalized)')\n",
    "plt.xlabel('Value (raw data)')\n",
    "plt.tight_layout()\n",
    "plt.savefig('results/pdfsOfFeatures.pdf')\n",
    "plt.show()\n",
    "plt.close()\n"
   ]
  },
  {
   "cell_type": "code",
   "execution_count": null,
   "metadata": {},
   "outputs": [],
   "source": [
    "##Plot Only v25 und v30\n",
    "\n",
    "fig,ax     = plt.subplots(figsize = (3,2))\n",
    "freqs,bins = np.histogram(dfUser['has_applied'],range = (0,1), density = True)\n",
    "plt.plot(bins[1:],freqs, '*',label = 'has_applied',)\n",
    "\n",
    "freqs,bins = np.histogram(dfUser['25'],range = (0,1), density = True)\n",
    "plt.plot(bins[1:],freqs, label = 'v25')\n",
    "freqs,bins = np.histogram(dfUser['30'],range = (0,1), density = True)\n",
    "plt.plot(bins[1:],freqs, label = 'v30')\n",
    "\n",
    "\n",
    "plt.legend(ncol = 1, loc = 'upper center')\n",
    "plt.ylabel('Histogram (normalized)')\n",
    "plt.xlabel('Value (raw data)')\n",
    "plt.tight_layout()\n",
    "#plt.savefig('results/pdfsOfFeatures.pdf')\n",
    "plt.show()\n",
    "plt.close()\n",
    "\n"
   ]
  },
  {
   "cell_type": "markdown",
   "metadata": {},
   "source": [
    "#### Balance TargetVariable"
   ]
  },
  {
   "cell_type": "code",
   "execution_count": null,
   "metadata": {},
   "outputs": [],
   "source": [
    "fig,ax = plt.subplots(figsize = (3,2))\n",
    "\n",
    "ax = (pd.Series(dfUser.has_applied).value_counts(normalize=True, sort=False)).plot.bar()\n",
    "#for i, v in enumerate(np.asarray(dfUser.has_applied.value_counts(normalize=True, sort=False))):\n",
    "#    ax.text(v*0.3, i/3+0.3, str(v), color='k', fontweight='bold')\n",
    "plt.xlabel('Conversion rate')\n",
    "plt.ylabel('Probability')\n",
    "plt.tight_layout()\n",
    "plt.savefig('BalanceTargetVariable.pdf')\n",
    "plt.show()\n",
    "\n",
    "##https://stackoverflow.com/questions/34615854/seaborn-countplot-with-normalized-y-axis-per-group"
   ]
  },
  {
   "cell_type": "markdown",
   "metadata": {},
   "source": [
    "## Clean data"
   ]
  },
  {
   "cell_type": "code",
   "execution_count": null,
   "metadata": {},
   "outputs": [],
   "source": [
    "#Remove str\n",
    "#dfUser.user_id =  dfUser.user_id.apply(lambda x : int(x[1:]))\n",
    "#dfJobs.user_id = dfJobs.user_id.apply(lambda x : int(x[1:]))\n",
    "\n",
    "#Fill nan with mean\n",
    "#dfUserNoNan = dfUser.apply(lambda x: x.fillna(x.mean()),axis=0)\n",
    "\n",
    "#Fill nan with U (0,1)\n",
    "dfUserNoNan = dfUser.mask(dfUser.isnull(), np.random.uniform(0, 1, size=dfUser.shape))\n",
    "dfUserNoNan.head()"
   ]
  },
  {
   "cell_type": "markdown",
   "metadata": {},
   "source": [
    "## Kullback-Leibler divergence"
   ]
  },
  {
   "cell_type": "code",
   "execution_count": null,
   "metadata": {},
   "outputs": [],
   "source": [
    "import scipy.stats\n",
    "\n",
    "dfUser_Dropna25 = dfUser\n",
    "dfUser_Dropna30 = dfUser\n",
    "\n",
    "dfUser_Dropna25.dropna(subset= ['has_applied','25'], inplace=True)\n",
    "dfUser_Dropna30.dropna(subset = ['has_applied','30','1'], inplace=True)\n",
    "\n",
    "\n",
    "\n",
    "entropies = []\n",
    "for column in dfUserNoNan:\n",
    "    entropies.append(scipy.stats.entropy(dfUserNoNan.has_applied,dfUserNoNan[column]))\n",
    "    if entropies[-1] < 0.7:\n",
    "        print('Column smaller than 0.7', column)\n",
    "\n",
    "#Calc uniform reference value\n",
    "entropyUniform    = np.mean([scipy.stats.entropy(dfUserNoNan.has_applied,np.random.uniform(size=2000)) for i in range(50)])\n",
    "entropyUniformStd = np.std([scipy.stats.entropy(dfUserNoNan.has_applied,np.random.uniform(size=2000)) for i in range(50)])\n",
    "\n",
    "\n",
    "entropy25 = scipy.stats.entropy(dfUser_Dropna25.has_applied,dfUser_Dropna25['25'])\n",
    "entropy30 = scipy.stats.entropy(dfUser_Dropna30.has_applied,dfUser_Dropna30['30'])\n",
    "entropy1 = scipy.stats.entropy(dfUser_Dropna30.has_applied,dfUser_Dropna30['1'])\n",
    "\n",
    "\n",
    "print(entropy25)\n",
    "print(entropy30,entropy1)\n",
    "\n",
    "#Plotting\n",
    "fig,ax = plt.subplots(figsize = (4,2.6))\n",
    "plt.plot(range(1,57),entropies[1:], label = 'Kullback-Leibler \\n divergence')\n",
    "plt.fill_between(range(len(entropies[1:])), entropyUniform-entropyUniformStd, entropyUniform+entropyUniformStd, color = '0.75', label = 'U(0,1) Std.Dev.')\n",
    "plt.plot(range(len(entropies[2:])),np.ones(len(entropies[2:]))*entropyUniform, '--',color = 'k',label = 'U(0,1)')\n",
    "#plt.plot(18,entropy25)\n",
    "#plt.plot(23,entropy30, markersize = 15)\n",
    "plt.ylim([-0.05,1])\n",
    "plt.legend()\n",
    "plt.tick_params(axis=\"x\")\n",
    "plt.xlabel('Feature')\n",
    "plt.ylabel('Kullback-Leibler to CR')\n",
    "plt.tight_layout()\n",
    "plt.savefig('results/entropies.pdf')"
   ]
  },
  {
   "cell_type": "markdown",
   "metadata": {},
   "source": [
    "# Jobs Data Frame - prescriptive inferences?"
   ]
  },
  {
   "cell_type": "code",
   "execution_count": null,
   "metadata": {},
   "outputs": [],
   "source": [
    "dfJobs['has_applied']  = dfUser['has_applied']\n",
    "dfJobs['Salary_Bool']  = np.where(dfJobs.salary.notnull(), 1, 0)\n",
    "#dfJobs                 = pd.get_dummies(dfJobs, columns=['job_title_full'])  \n"
   ]
  },
  {
   "cell_type": "code",
   "execution_count": null,
   "metadata": {},
   "outputs": [],
   "source": [
    "#dfAll.groupby('has_applied').sum()\n",
    "dfJobs.groupby('has_applied').mean()"
   ]
  },
  {
   "cell_type": "markdown",
   "metadata": {},
   "source": [
    "### Look for keywords"
   ]
  },
  {
   "cell_type": "code",
   "execution_count": null,
   "metadata": {},
   "outputs": [],
   "source": [
    "def AddBinaryString(df,ListOfStrings):\n",
    "    for string in ListOfStrings:\n",
    "            dfJobs['Contains_'+string] = dfJobs['job_title_full'].str.find(string)\n",
    "            dfJobs['Contains_'+string] = np.where(dfJobs['Contains_'+string]>-1.,1,0)\n",
    "    return(dfJobs)\n",
    "\n",
    "from collections import Counter\n",
    "ListOfMostCommonWords = Counter(\" \".join(dfJobs[\"job_title_full\"]).split()).most_common(None)\n",
    "\n",
    "ListOfStrings = [entry for entry, count in ListOfMostCommonWords if count > 0]\n",
    "print(ListOfMostCommonWords)\n",
    "print(ListOfStrings)\n",
    "\n",
    "#ListOfStrings            = ['Manager','Junior','Senior', 'Lead', 'Remote', 'M/F', 'Backend','Analyst']\n",
    "dfJobs                   = AddBinaryString(dfJobs,ListOfStrings)\n"
   ]
  },
  {
   "cell_type": "markdown",
   "metadata": {},
   "source": [
    "### Group keywords by target: Individual check"
   ]
  },
  {
   "cell_type": "code",
   "execution_count": null,
   "metadata": {},
   "outputs": [],
   "source": [
    "SampleMean = dfJobs.has_applied.mean()\n",
    "print(SampleMean)\n",
    "\n",
    "for entry, count in ListOfMostCommonWords:\n",
    "    mean        = dfJobs.groupby(by='Contains_'+entry).has_applied.mean()[1]\n",
    "    errorOfMean = np.sqrt(0.576*(1-0.5764)) / np.sqrt(count)\n",
    "    relError = (mean -SampleMean)/errorOfMean\n",
    "    \n",
    "    if True:# abs(relError*count/2000) > 0.1:\n",
    "        print(entry, '\\t', 'Mean: {0:.3f}'.format(mean), '\\t','Error of Mean: {0:.3f}'.format(errorOfMean),'\\t Dev of mean: {0:.2f}'.format(mean-SampleMean), \n",
    "              '\\t','Count: ',count, 'RelError {0:.2f}'.format(relError))\n",
    "        #print(entry, relError*count/2000)\n",
    "        "
   ]
  },
  {
   "cell_type": "markdown",
   "metadata": {},
   "source": [
    "### Heatmap  Correlation one-hot encoded Keywords"
   ]
  },
  {
   "cell_type": "code",
   "execution_count": null,
   "metadata": {},
   "outputs": [],
   "source": [
    "plt.figure(figsize = (10,8))\n",
    "g = sns.heatmap(dfJobs.corr(),annot=False, fmt = \".2f\", cmap = \"coolwarm\",linewidths= 0.01)\n",
    "plt.savefig('results/correlationKEYWORDS100Describptions_Seaborn.pdf')\n",
    "dfJobs.corr()"
   ]
  },
  {
   "cell_type": "markdown",
   "metadata": {},
   "source": [
    "### Kullback Leibler for keywords"
   ]
  },
  {
   "cell_type": "code",
   "execution_count": null,
   "metadata": {},
   "outputs": [],
   "source": [
    "import scipy.stats\n",
    "\n",
    "\n",
    "entropies = []\n",
    "for column in dfJobs:\n",
    "    try:\n",
    "        entropies.append(scipy.stats.entropy(dfJobs.has_applied,dfJobs[column]))\n",
    "    except:\n",
    "        TypeError\n",
    "\n",
    "\n",
    "#Calc uniform reference value\n",
    "entropyUniform    = np.mean([scipy.stats.entropy(dfJobs.has_applied,np.random.uniform(size=2000)) for i in range(50)])\n",
    "entropyUniformStd = np.std([scipy.stats.entropy(dfJobs.has_applied,np.random.uniform(size=2000)) for i in range(50)])\n",
    "\n",
    "\n",
    "\n",
    "print(entropies)\n",
    "\n",
    "#Plotting\n",
    "fig,ax = plt.subplots(figsize = (4,2.6))\n",
    "plt.plot(entropies[1:], label = 'Kullback-Leibler \\n divergence')\n",
    "plt.fill_between(range(len(entropies[1:])), entropyUniform-entropyUniformStd, entropyUniform+entropyUniformStd, color = '0.75', label = 'U(0,1) Std.Dev.')\n",
    "plt.plot(range(len(entropies[2:])),np.ones(len(entropies[2:]))*entropyUniform, '--',color = 'k',label = 'U(0,1)')\n",
    "plt.ylim([-0.05,1])\n",
    "plt.legend()\n",
    "plt.tick_params(axis=\"x\")\n",
    "plt.xlabel('Feature')\n",
    "plt.ylabel('Kullback-Leibler to has_applied')\n",
    "plt.tight_layout()\n",
    "plt.savefig('results/entropiesJobs.pdf')"
   ]
  },
  {
   "cell_type": "markdown",
   "metadata": {},
   "source": [
    "### Conversation rate per keywords/company/salary"
   ]
  },
  {
   "cell_type": "code",
   "execution_count": null,
   "metadata": {},
   "outputs": [],
   "source": [
    "print(dfJobs.columns)\n",
    "\n",
    "conversionRateList = []\n",
    "\n",
    "for column in dfJobs.drop(['user_id', 'job_title_full'], axis = 1):\n",
    "    conversionRate = dfJobs.groupby(by = column).has_applied.mean()\n",
    "    conversionRateList.append( [column, conversionRate ])\n",
    "    \n",
    "\n",
    "dfConversionRateList = pd.DataFrame(conversionRateList, columns = ['Name', 'conversionRate']) \n",
    "\n",
    "for column, rate in conversionRateList:\n",
    "    print(column,rate);\n",
    "    \n",
    "#plt.plot(dfConversionRateList)\n",
    "dfConversionRateList.head();"
   ]
  },
  {
   "cell_type": "markdown",
   "metadata": {},
   "source": [
    "### Plot Company CR"
   ]
  },
  {
   "cell_type": "code",
   "execution_count": null,
   "metadata": {},
   "outputs": [],
   "source": [
    "fig, ax = plt.subplots(figsize = (3,2))\n",
    "N       = dfJobs[['has_applied', 'company']].groupby('company').count()['has_applied']\n",
    "stdsum  =  np.sqrt(0.576*(1-0.576))/np.sqrt(N) \n",
    "\n",
    "ax      = pd.Series((dfJobs.groupby(by = 'company').has_applied).value_counts(normalize=True, sort=False)[:,1]).plot.bar(yerr=stdsum)\n",
    "plt.ylabel('Conversion rate')\n",
    "plt.axhline(0.576,color = 'k',linestyle = '--')\n",
    "plt.axhline(0.576,color = 'k',linestyle = '--')\n",
    "plt.tight_layout()\n",
    "fig.savefig('results/PlotCompany.pdf')"
   ]
  },
  {
   "cell_type": "markdown",
   "metadata": {},
   "source": [
    "### Plot barplot State Salary"
   ]
  },
  {
   "cell_type": "code",
   "execution_count": null,
   "metadata": {},
   "outputs": [],
   "source": [
    "fig, ax = plt.subplots(figsize = (3,2.5))\n",
    "N       = dfJobs[['has_applied', 'Salary_Bool']].groupby('Salary_Bool').count()['has_applied']\n",
    "stdsum  =  np.sqrt(0.576*(1-0.576))/np.sqrt(N) \n",
    "\n",
    "ax      = pd.Series((dfJobs.groupby(by = 'Salary_Bool').has_applied).value_counts(normalize=True, sort=False)[:,1]).plot.bar(yerr=stdsum)\n",
    "plt.ylabel('Conversion rate')\n",
    "plt.axhline(0.576,color = 'k',linestyle = '--')\n",
    "plt.axhline(0.576,color = 'k',linestyle = '--')\n",
    "plt.xticks([0,1],['NaN', 'Salary'])\n",
    "\n",
    "plt.tight_layout()\n",
    "fig.savefig('results/BarplotSalaryBool.pdf')\n"
   ]
  },
  {
   "cell_type": "code",
   "execution_count": null,
   "metadata": {},
   "outputs": [],
   "source": []
  },
  {
   "cell_type": "markdown",
   "metadata": {},
   "source": [
    "### CR for single category of a feature - are there popular jobs ?!"
   ]
  },
  {
   "cell_type": "code",
   "execution_count": null,
   "metadata": {},
   "outputs": [],
   "source": [
    "from statistics import median\n",
    "from statistics import stdev\n",
    "\n",
    "def SimulateBinomialDistr():\n",
    "    randList   = np.random.uniform(10,24,100)\n",
    "    sList      = []\n",
    "    freqThList = []\n",
    "    for i, N in enumerate(randList):\n",
    "        a = np.random.binomial(N, 0.576, 156)/N\n",
    "        sList.append( a)\n",
    "        freqTh, binsTh = np.histogram(a, bins = np.arange(11)/10, density = False)\n",
    "        freqThList.append(freqTh)\n",
    "\n",
    "    freqThList = np.asarray(freqThList)\n",
    "\n",
    "    freqTh     = np.zeros(10)\n",
    "    freqThStd  = np.zeros(10) \n",
    "    for i in range(10):\n",
    "        freqTh[i]    = np.mean(freqThList[:,i])\n",
    "        freqThStd[i] = np.std(freqThList[:,i])\n",
    "    where_are_NaNs = np.isnan(freqTh)\n",
    "    freqTh[where_are_NaNs] = 0\n",
    "    return(freqTh, freqThStd,binsTh)\n",
    "\n",
    "\n",
    "\n",
    "\n",
    "\n",
    "column = 'job_title_full'\n",
    "\n",
    "conversionRate = dfJobs.groupby(by = column).has_applied.mean()\n",
    "    \n",
    "conversionRate.head()\n",
    "\n",
    "freq, bins     = np.histogram(conversionRate, bins = np.arange(11)/10, density = False)\n",
    "freqTh, freqThStd,binsTh = SimulateBinomialDistr()\n",
    "\n",
    "##Plotting\n",
    "fig, ax = plt.subplots(figsize = (5,3.5))\n",
    "plt.bar(bins[1:],freq,width = 1/10, label = 'Data', alpha = 0.9)\n",
    "plt.plot(binsTh[1:],freqTh, color = 'C1', label = 'MC Simulation \\nBinomial Distr')\n",
    "plt.fill_between(binsTh[1:],freqTh + freqThStd, freqTh - freqThStd, label = 'MC Simulation \\nStd Dev ', color = '0.75')\n",
    "plt.axvline(median(conversionRate), color = 'k', linestyle = '--', label = 'Median Data')\n",
    "\n",
    "plt.title('Distribution of CR for each job')\n",
    "plt.ylabel('Counts')\n",
    "plt.xlabel('Conversion rate')\n",
    "plt.ylim([-1.5,68.5])\n",
    "plt.xlim([-0.05,1.05])\n",
    "plt.legend(loc = 'upper left')\n",
    "plt.savefig('results/popularJobs.pdf')\n",
    "print(bins)\n"
   ]
  }
 ],
 "metadata": {
  "kernelspec": {
   "display_name": "Python 3",
   "language": "python",
   "name": "python3"
  },
  "language_info": {
   "codemirror_mode": {
    "name": "ipython",
    "version": 3
   },
   "file_extension": ".py",
   "mimetype": "text/x-python",
   "name": "python",
   "nbconvert_exporter": "python",
   "pygments_lexer": "ipython3",
   "version": "3.7.0"
  }
 },
 "nbformat": 4,
 "nbformat_minor": 2
}
