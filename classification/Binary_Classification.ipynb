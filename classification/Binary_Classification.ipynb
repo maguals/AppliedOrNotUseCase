{
 "cells": [
  {
   "cell_type": "code",
   "execution_count": 1,
   "metadata": {},
   "outputs": [],
   "source": [
    "import numpy as np\n",
    "import pandas as pd\n",
    "import matplotlib.pyplot as plt\n",
    "import seaborn as sns \n",
    "\n",
    "#LogRegression\n",
    "from sklearn.datasets import make_classification\n",
    "from sklearn.linear_model import LogisticRegression\n",
    "from sklearn.model_selection import train_test_split\n",
    "from sklearn.metrics import roc_curve\n",
    "from sklearn.metrics import roc_auc_score\n",
    "from collections import Counter\n",
    "from sklearn.metrics import mean_squared_error\n",
    "from sklearn.metrics import accuracy_score\n",
    "from sklearn.model_selection import cross_val_score\n",
    "\n",
    "\n",
    "\n",
    "def AddBinaryString(df,ListOfStrings):\n",
    "    for string in ListOfStrings:\n",
    "        if string != '-':\n",
    "            dfJobs['Contains_'+string] = dfJobs['job_title_full'].str.find(string)\n",
    "            dfJobs['Contains_'+string] = np.where(dfJobs['Contains_'+string]>-1.,1,0)\n",
    "    return(df)"
   ]
  },
  {
   "cell_type": "code",
   "execution_count": 2,
   "metadata": {},
   "outputs": [],
   "source": [
    "dfUser         = pd.read_csv(\"../applicant_material/user.csv\") \n",
    "dfJobs         = pd.read_csv(\"../applicant_material/job_desc.csv\") "
   ]
  },
  {
   "cell_type": "markdown",
   "metadata": {},
   "source": [
    "## Clean and prepare data"
   ]
  },
  {
   "cell_type": "code",
   "execution_count": 3,
   "metadata": {},
   "outputs": [],
   "source": [
    "##Delete strings in user_id and create concat the two dataframes\n",
    "dfUser.user_id = dfUser.user_id.apply(lambda x : int(x[1:]))\n",
    "dfJobs.user_id = dfJobs.user_id.apply(lambda x : int(x[1:]))\n",
    "dfAll          = pd.concat([dfUser, dfJobs], axis=1)\n",
    "\n",
    "dfJobs.job_title_full = dfJobs.job_title_full.str.replace('(', ' ')\n",
    "dfJobs.job_title_full = dfJobs.job_title_full.str.replace(')', ' ')\n",
    "dfJobs.job_title_full = dfJobs.job_title_full.str.lower();"
   ]
  },
  {
   "cell_type": "code",
   "execution_count": 11,
   "metadata": {},
   "outputs": [
    {
     "data": {
      "text/plain": [
       "Index(['job_title_full', 'salary', 'user_id', 'Salary_Bool',\n",
       "       'Contains_manager', 'Contains_m/f/d', 'Contains_junior',\n",
       "       'Contains_senior', 'Contains_lead', 'Contains_marketing',\n",
       "       'Contains_new', 'Contains_ventures', 'Contains_remote', 'Contains_data',\n",
       "       'Contains_engineer', 'Contains_product', 'Contains_pricing',\n",
       "       'Contains_analyst', 'company_a', 'company_b', 'company_c', 'company_d',\n",
       "       'company_e', 'company_f', 'company_g', 'company_h'],\n",
       "      dtype='object')"
      ]
     },
     "execution_count": 11,
     "metadata": {},
     "output_type": "execute_result"
    }
   ],
   "source": [
    "#Categorize data\n",
    "\n",
    "##DataFrame jobs - Categorize! IfSalary\n",
    "dfJobs['Salary_Bool']  = np.where(dfJobs.salary.notnull(), 1, 0)\n",
    "\n",
    "#Keywords in Jobdescr.\n",
    "#ListOfStrings = ['Manager','Junior','Senior', 'Lead', 'Remote', 'm/f']\n",
    "#dfJobs        = AddBinaryString(dfJobs,ListOfStrings)\n",
    "#dfJobs['GenderRemark'] = dfJobs['job_title_full'].str.find('M/F')\n",
    "#dfJobs['GenderRemark'] = np.where(dfJobs['GenderRemark']>-1.,1,0)\n",
    "\n",
    "#Keywords\n",
    "ListOfMostCommonWords = Counter(\" \".join(dfJobs[\"job_title_full\"]).split()).most_common(15)\n",
    "ListOfStrings         = [entry for entry, count in ListOfMostCommonWords if count > 100]\n",
    "#ListOfStrings            = ['Manager','Junior','Senior', 'Lead', 'Remote', 'M/F', 'Backend','Analyst']\n",
    "dfJobs                = AddBinaryString(dfJobs,ListOfStrings)\n",
    "\n",
    "##Categorize Companies and/or job_descr\n",
    "dfJobsDummies         = pd.get_dummies(dfJobs, columns=['company'])  \n",
    "#dfJobsDummies = dfJobs\n",
    "dfJobsDummies.columns    "
   ]
  },
  {
   "cell_type": "markdown",
   "metadata": {},
   "source": [
    "### Select features"
   ]
  },
  {
   "cell_type": "code",
   "execution_count": 5,
   "metadata": {},
   "outputs": [
    {
     "name": "stdout",
     "output_type": "stream",
     "text": [
      "['Salary_Bool', 'Contains_manager', 'Contains_m/f/d', 'Contains_junior', 'Contains_senior', 'Contains_lead', 'Contains_marketing', 'Contains_new', 'Contains_ventures', 'Contains_remote', 'Contains_data', 'Contains_engineer', 'Contains_product', 'Contains_pricing', 'Contains_analyst', 'company_a', 'company_b', 'company_c', 'company_d', 'company_e', 'company_f', 'company_g', 'company_h', 'v1', 'v10', 'v11', 'v12', 'v13', 'v14', 'v15', 'v16', 'v17', 'v18', 'v19', 'v2', 'v20', 'v21', 'v22', 'v23', 'v24', 'v25', 'v26', 'v27', 'v28', 'v29', 'v3', 'v30', 'v31', 'v32', 'v33', 'v34', 'v35', 'v36', 'v37', 'v38', 'v39', 'v4', 'v40', 'v41', 'v42', 'v43', 'v44', 'v45', 'v46', 'v47', 'v48', 'v49', 'v5', 'v50', 'v51', 'v52', 'v53', 'v54', 'v55', 'v56', 'v6', 'v7', 'v8', 'v9']\n"
     ]
    }
   ],
   "source": [
    "##Select features\n",
    "#features     = dfUser.drop(['has_applied', 'user_id',], axis = 1)\n",
    "#features.reset_index()\n",
    "#features     = features.iloc[:,:]\n",
    "#featureName  = 'UserFeatures'\n",
    "\n",
    "#dfJobs       = dfAll.apply(lambda x: x.fillna(x.mean()),axis=0)\n",
    "#features     = dfJobsDummies.drop(['job_title_full', 'salary','user_id',],axis = 1)\n",
    "#featureName  = 'JobFeatures_Companies_Grouped_GenderRemark_SalaryBinary'          \n",
    "\n",
    "features      = pd.concat([ dfJobsDummies.drop(['job_title_full', 'salary','user_id',],axis = 1), \n",
    "                         dfUser.drop(['has_applied','user_id'],axis =1)], axis=1)\n",
    "#featureName  = 'Fvall_keywords_comp_salarybool'          \n",
    "featureName   = 'FullFeature'\n",
    "#featureName  = 'FullFeature_inclNaNValues'\n",
    "\n",
    "#features     = dfJobsDummies.drop(['user_id','job_title_full','salary'],axis = 1)\n",
    "#featureName  = 'JobsKeywords10' \n",
    "print(list(features.columns))"
   ]
  },
  {
   "cell_type": "code",
   "execution_count": 6,
   "metadata": {},
   "outputs": [],
   "source": [
    "#Features and target variable\n",
    "X, y = features, dfUser.has_applied\n",
    "\n",
    "# split into train/test sets\n",
    "trainX, testX, trainy, testy = train_test_split(X, y, test_size=0.3, random_state=2)\n",
    "\n",
    "trainX = trainX.fillna(trainX.mean())\n",
    "testX  = testX.fillna(testX.mean());"
   ]
  },
  {
   "cell_type": "markdown",
   "metadata": {},
   "source": [
    "## Logistic regression  "
   ]
  },
  {
   "cell_type": "code",
   "execution_count": 7,
   "metadata": {},
   "outputs": [
    {
     "name": "stdout",
     "output_type": "stream",
     "text": [
      "No Skill: ROC AUC=0.500\n",
      "Logistic: ROC AUC=0.607\n",
      "RMSE: 0.663325\n",
      "Accuracy: 56.00%\n"
     ]
    },
    {
     "data": {
      "image/png": "[encoded data removed]",
      "text/plain": [
       "<Figure size 288x216 with 1 Axes>"
      ]
     },
     "metadata": {
      "needs_background": "light"
     },
     "output_type": "display_data"
    }
   ],
   "source": [
    "# generate a no skill prediction (majority class)\n",
    "ns_probs = [0 for _ in range(len(testy))]\n",
    "# fit a model\n",
    "model    = LogisticRegression(solver='lbfgs')\n",
    "model.fit(trainX, trainy)\n",
    "# predict probabilities\n",
    "lr_probs = model.predict_proba(testX)\n",
    "# keep probabilities for the positive outcome only\n",
    "lr_probs = lr_probs[:, 1]\n",
    "# calculate scores\n",
    "ns_auc = roc_auc_score(testy, ns_probs)\n",
    "lr_auc = roc_auc_score(testy, lr_probs)\n",
    "# summarize scores\n",
    "print('No Skill: ROC AUC=%.3f' % (ns_auc))\n",
    "print('Logistic: ROC AUC=%.3f' % (lr_auc))\n",
    "# calculate roc curves\n",
    "ns_fpr, ns_tpr, _ = roc_curve(testy, ns_probs)\n",
    "lr_fpr, lr_tpr, _ = roc_curve(testy, lr_probs)\n",
    "\n",
    "\n",
    "preds = model.predict(testX)\n",
    "rmse  = np.sqrt(mean_squared_error(testy, preds))\n",
    "print(\"RMSE: %f\" % (rmse))\n",
    "\n",
    "# make predictions for test data\n",
    "predictions = [round(value) for value in preds]\n",
    "# evaluate predictions\n",
    "accuracy = accuracy_score(testy, predictions)\n",
    "print(\"Accuracy: %.2f%%\" % (accuracy * 100.0))\n",
    "\n",
    "\n",
    "# plot the roc curve for the model\n",
    "fig,ax = plt.subplots(figsize = (4,3))\n",
    "\n",
    "plt.plot(ns_fpr, ns_tpr, linestyle='--', label='No Skill: ROC AUC=%.3f' % (ns_auc))\n",
    "plt.plot(lr_fpr, lr_tpr, marker='.', label='Logistic: ROC AUC=%.3f' % (lr_auc))\n",
    "plt.xlabel('False Positive Rate')\n",
    "plt.ylabel('True Positive Rate')\n",
    "plt.legend()\n",
    "plt.tight_layout()\n",
    "plt.savefig('results/LogisticRegression'+ featureName +'.pdf')\n",
    "plt.show()\n",
    "plt.close()"
   ]
  },
  {
   "cell_type": "code",
   "execution_count": null,
   "metadata": {},
   "outputs": [],
   "source": []
  },
  {
   "cell_type": "markdown",
   "metadata": {},
   "source": [
    "## Support Vector machines"
   ]
  },
  {
   "cell_type": "code",
   "execution_count": 8,
   "metadata": {},
   "outputs": [
    {
     "name": "stdout",
     "output_type": "stream",
     "text": [
      "0.5583333333333333\n",
      "No Skill: ROC AUC=0.500\n",
      "Logistic: ROC AUC=0.596\n",
      "RMSE: 0.664580\n",
      "Accuracy: 55.83%\n"
     ]
    },
    {
     "data": {
      "image/png": "[encoded data removed]",
      "text/plain": [
       "<Figure size 288x216 with 1 Axes>"
      ]
     },
     "metadata": {
      "needs_background": "light"
     },
     "output_type": "display_data"
    }
   ],
   "source": [
    "#trainX, testX, trainy, testy = train_test_split(X, y, test_size=0.5, random_state=10)\n",
    "\n",
    "from sklearn.model_selection import train_test_split\n",
    "from sklearn import datasets\n",
    "from sklearn import svm\n",
    "\n",
    "clf = svm.SVC(kernel='poly', C=1, probability = True).fit(trainX, trainy)\n",
    "print(clf.score(testX, testy))\n",
    "\n",
    "\n",
    "lr_probs  = clf.predict_proba(testX)\n",
    "# keep probabilities for the positive outcome only\n",
    "lr_probs  = lr_probs[:, 1]\n",
    "### calculate scores\n",
    "ns_auc    = roc_auc_score(testy, ns_probs)\n",
    "lr_auc    = roc_auc_score(testy, lr_probs)\n",
    "# summarize scores\n",
    "print('No Skill: ROC AUC=%.3f' % (ns_auc))\n",
    "print('Logistic: ROC AUC=%.3f' % (lr_auc))\n",
    "# calculate roc curves\n",
    "ns_fpr, ns_tpr, _ = roc_curve(testy, ns_probs)\n",
    "lr_fpr, lr_tpr, _ = roc_curve(testy, lr_probs)\n",
    "\n",
    "##RMSE,Acurry Scores\n",
    "preds = clf.predict(testX)\n",
    "rmse  = np.sqrt(mean_squared_error(testy, preds))\n",
    "print(\"RMSE: %f\" % (rmse))\n",
    "\n",
    "# make predictions for test data\n",
    "predictions = [round(value) for value in preds]\n",
    "# evaluate predictions\n",
    "accuracy    = accuracy_score(testy, predictions)\n",
    "print(\"Accuracy: %.2f%%\" % (accuracy * 100.0))\n",
    "\n",
    "\n",
    "# plot the roc curve for the model\n",
    "fig,ax = plt.subplots(figsize = (4,3))\n",
    "plt.plot(ns_fpr, ns_tpr, linestyle='--', label='No Skill: ROC AUC=%.3f' % (ns_auc))\n",
    "plt.plot(lr_fpr, lr_tpr, marker='.', label='SVM: ROC AUC=%.3f' % (lr_auc))\n",
    "plt.xlabel('False Positive Rate')\n",
    "plt.ylabel('True Positive Rate')\n",
    "plt.legend()\n",
    "plt.tight_layout()\n",
    "plt.savefig('results/SVM'+ featureName +'.pdf')\n",
    "plt.show()\n",
    "plt.close()\n",
    "\n",
    "#print(preds)"
   ]
  },
  {
   "cell_type": "code",
   "execution_count": 36,
   "metadata": {},
   "outputs": [
    {
     "name": "stdout",
     "output_type": "stream",
     "text": [
      "[0.60714286 0.58571429 0.53571429 0.54285714 0.54285714 0.55714286\n",
      " 0.49285714 0.57857143 0.43571429 0.49285714]\n",
      "Accuracy of Model with Cross Validation is: 53.714285714285715\n"
     ]
    }
   ],
   "source": [
    "##CV\n",
    "accuracy = cross_val_score(clf, trainX, trainy, scoring='accuracy', cv = 10)\n",
    "print(accuracy)\n",
    "#get the mean of each fold \n",
    "print(\"Accuracy of Model with Cross Validation is:\",accuracy.mean() * 100)"
   ]
  },
  {
   "cell_type": "code",
   "execution_count": null,
   "metadata": {},
   "outputs": [],
   "source": []
  },
  {
   "cell_type": "markdown",
   "metadata": {},
   "source": [
    "## Decision Tree"
   ]
  },
  {
   "cell_type": "code",
   "execution_count": 9,
   "metadata": {},
   "outputs": [
    {
     "name": "stdout",
     "output_type": "stream",
     "text": [
      "Accuracy: 67.83%\n",
      "No Skill: ROC AUC=0.500\n",
      "Logistic: ROC AUC=0.732\n"
     ]
    },
    {
     "data": {
      "image/png": "[encoded data removed]",
      "text/plain": [
       "<Figure size 288x216 with 1 Axes>"
      ]
     },
     "metadata": {
      "needs_background": "light"
     },
     "output_type": "display_data"
    }
   ],
   "source": [
    "#https://www.datacamp.com/community/tutorials/xgboost-in-python\n",
    "\n",
    "import xgboost as xgb\n",
    "\n",
    "\n",
    "data_dmatrix = xgb.DMatrix(data=X,label=y)\n",
    "xg_class     = xgb.XGBClassifier()\n",
    "\n",
    "eval_set     = [(testX, testy)]\n",
    "xg_class.fit(trainX, trainy, eval_metric=\"auc\", eval_set=eval_set, verbose=False);\n",
    "\n",
    "preds        = xg_class.predict(testX)\n",
    "\n",
    "\n",
    "# make predictions for test data\n",
    "predictions  = [round(value) for value in preds]\n",
    "# evaluate predictions\n",
    "accuracy     = accuracy_score(testy, predictions)\n",
    "print(\"Accuracy: %.2f%%\" % (accuracy * 100.0))\n",
    "\n",
    "lr_probs     = xg_class.predict_proba(testX)\n",
    "# keep probabilities for the positive outcome only\n",
    "lr_probs     = lr_probs[:, 1]\n",
    "### calculate scores\n",
    "ns_auc = roc_auc_score(testy, ns_probs)\n",
    "lr_auc = roc_auc_score(testy, lr_probs)\n",
    "# summarize scores\n",
    "print('No Skill: ROC AUC=%.3f' % (ns_auc))\n",
    "print('Logistic: ROC AUC=%.3f' % (lr_auc))\n",
    "# calculate roc curves\n",
    "ns_fpr, ns_tpr, _ = roc_curve(testy, ns_probs)\n",
    "lr_fpr, lr_tpr, _ = roc_curve(testy, lr_probs)\n",
    "\n",
    "\n",
    "\n",
    "# plot the roc curve for the model\n",
    "fig,ax = plt.subplots(figsize = (4,3))\n",
    "plt.plot(ns_fpr, ns_tpr, linestyle='--', label='No Skill: ROC AUC=%.3f' % (ns_auc))\n",
    "plt.plot(lr_fpr, lr_tpr, marker='.', label='Dec Tree: ROC AUC=%.3f' % (lr_auc))\n",
    "plt.xlabel('False Positive Rate')\n",
    "plt.ylabel('True Positive Rate')\n",
    "plt.legend()\n",
    "plt.tight_layout()\n",
    "plt.savefig('results/DecisionTreeXGBoost'+ featureName +'.pdf')\n",
    "plt.show()\n",
    "plt.close()\n",
    "\n",
    "#print(preds)"
   ]
  },
  {
   "cell_type": "markdown",
   "metadata": {},
   "source": [
    "#### Cross validation"
   ]
  },
  {
   "cell_type": "code",
   "execution_count": 38,
   "metadata": {},
   "outputs": [
    {
     "name": "stdout",
     "output_type": "stream",
     "text": [
      "[0.63571429 0.69285714 0.68571429 0.65       0.62142857 0.6\n",
      " 0.6        0.70714286 0.60714286 0.57857143]\n",
      "Accuracy of Model with Cross Validation is: 63.78571428571428\n"
     ]
    }
   ],
   "source": [
    "#CV1\n",
    "accuracy = cross_val_score(xg_class, trainX, trainy, scoring='accuracy', cv = 10)\n",
    "print(accuracy)\n",
    "#get the mean of each fold \n",
    "print(\"Accuracy of Model with Cross Validation is:\",accuracy.mean() * 100)"
   ]
  },
  {
   "cell_type": "code",
   "execution_count": 12,
   "metadata": {},
   "outputs": [
    {
     "ename": "TypeError",
     "evalue": "cv() missing 1 required positional argument: 'params'",
     "output_type": "error",
     "traceback": [
      "\u001b[0;31m---------------------------------------------------------------------------\u001b[0m",
      "\u001b[0;31mTypeError\u001b[0m                                 Traceback (most recent call last)",
      "\u001b[0;32m<ipython-input-12-f1f081401b1e>\u001b[0m in \u001b[0;36m<module>\u001b[0;34m\u001b[0m\n\u001b[1;32m      1\u001b[0m \u001b[0;31m#CV2\u001b[0m\u001b[0;34m\u001b[0m\u001b[0;34m\u001b[0m\u001b[0m\n\u001b[1;32m      2\u001b[0m cv_results = xgb.cv(dtrain=data_dmatrix, nfold=3,\n\u001b[0;32m----> 3\u001b[0;31m                     num_boost_round=10,early_stopping_rounds=50,metrics=\"rmse\", as_pandas=True, seed=123)\n\u001b[0m\u001b[1;32m      4\u001b[0m \u001b[0;34m\u001b[0m\u001b[0m\n\u001b[1;32m      5\u001b[0m \u001b[0mcv_results\u001b[0m\u001b[0;34m.\u001b[0m\u001b[0mhead\u001b[0m\u001b[0;34m(\u001b[0m\u001b[0;36m10\u001b[0m\u001b[0;34m)\u001b[0m\u001b[0;34m\u001b[0m\u001b[0m\n",
      "\u001b[0;31mTypeError\u001b[0m: cv() missing 1 required positional argument: 'params'"
     ]
    }
   ],
   "source": [
    "#CV2\n",
    "cv_results = xgb.cv(dtrain=data_dmatrix, nfold=3,\n",
    "                    num_boost_round=10,early_stopping_rounds=50,metrics=\"rmse\", as_pandas=True, seed=123)\n",
    "\n",
    "cv_results.head(10)\n",
    "print((cv_results[\"test-rmse-mean\"]).tail(1))\n"
   ]
  },
  {
   "cell_type": "markdown",
   "metadata": {},
   "source": [
    "#### Plot Tree"
   ]
  },
  {
   "cell_type": "code",
   "execution_count": 52,
   "metadata": {},
   "outputs": [
    {
     "data": {
      "image/png": "[encoded data removed]",
      "text/plain": [
       "<Figure size 432x288 with 1 Axes>"
      ]
     },
     "metadata": {
      "needs_background": "light"
     },
     "output_type": "display_data"
    }
   ],
   "source": [
    "#xg_class = xgb.train(params=params, dtrain=data_dmatrix, num_boost_round=20)\n",
    "\n",
    "plt.figsize=(50,10)\n",
    "xgb.plot_tree(xg_class,num_trees=0,)\n",
    "plt.savefig('Tree'+ featureName + '.pdf', dpi = 2000)\n",
    "plt.show()"
   ]
  },
  {
   "cell_type": "markdown",
   "metadata": {},
   "source": [
    "## Random Forest"
   ]
  },
  {
   "cell_type": "code",
   "execution_count": null,
   "metadata": {},
   "outputs": [],
   "source": []
  }
 ],
 "metadata": {
  "kernelspec": {
   "display_name": "Python 3",
   "language": "python",
   "name": "python3"
  },
  "language_info": {
   "codemirror_mode": {
    "name": "ipython",
    "version": 3
   },
   "file_extension": ".py",
   "mimetype": "text/x-python",
   "name": "python",
   "nbconvert_exporter": "python",
   "pygments_lexer": "ipython3",
   "version": "3.7.0"
  }
 },
 "nbformat": 4,
 "nbformat_minor": 2
}
